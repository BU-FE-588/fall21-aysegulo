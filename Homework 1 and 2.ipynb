{
 "cells": [
  {
   "cell_type": "markdown",
   "metadata": {},
   "source": [
    "# Homework 1 and 2 due November 23$^{th}$, 2021\n",
    "\n",
    "The aim of this homework is to practive the concepts of basic data structures, control flows and loops in Python. You are expected to use GitHub Classroom and present your work as an html file (i.e. web page) on your progress journals. You can use this jupyter notebook as template to provide your answers."
   ]
  },
  {
   "cell_type": "markdown",
   "metadata": {},
   "source": [
    "## Task 1\n",
    "Implement a Python program to input two numbers and perform all arithmetic operations. You are expected to find the sum, difference, product, quotient and remainder of two given numbers."
   ]
  },
  {
   "cell_type": "code",
   "execution_count": 10,
   "metadata": {},
   "outputs": [
    {
     "name": "stdout",
     "output_type": "stream",
     "text": [
      "12\n",
      "4\n",
      "32\n",
      "2.0\n",
      "0\n",
      "4096\n"
     ]
    }
   ],
   "source": [
    "#Defining the variables\n",
    "def variable(a,b):\n",
    "    \n",
    "# Addition, subtraction\n",
    "    print(a+b)\n",
    "    print(a-b)\n",
    "\n",
    "# Multiplication, division, remainder (modulo), and exponentiation\n",
    "    print(a*b)\n",
    "    print(a/b)\n",
    "    print(a%b)\n",
    "    print(a**b)\n",
    "\n",
    "\n",
    "variable(8,4)\n"
   ]
  },
  {
   "cell_type": "markdown",
   "metadata": {},
   "source": [
    "## Task 2\n",
    "Implement a Python program to input length and width of a rectangle and find area of the given rectangle. "
   ]
  },
  {
   "cell_type": "code",
   "execution_count": 12,
   "metadata": {},
   "outputs": [
    {
     "name": "stdout",
     "output_type": "stream",
     "text": [
      "32\n"
     ]
    }
   ],
   "source": [
    "# Defining and Assigning the variables\n",
    "\n",
    "def rectangle(length,width):\n",
    " \n",
    "    length = 8\n",
    "    width = 4\n",
    "    area = length * width\n",
    "    \n",
    "# Calculation\n",
    "print(area)"
   ]
  },
  {
   "cell_type": "markdown",
   "metadata": {},
   "source": [
    "## Task 3\n",
    "Implement a Python program to input any decimal number from user and convert it to binary number system (i.e. base-2 number system)"
   ]
  },
  {
   "cell_type": "code",
   "execution_count": 1,
   "metadata": {},
   "outputs": [
    {
     "name": "stdout",
     "output_type": "stream",
     "text": [
      "0100000"
     ]
    }
   ],
   "source": [
    "# Function to convert decimal number\n",
    "# to binary using recursion\n",
    "def DecimalToBinary(num):\n",
    "     \n",
    "    if num >= 1:\n",
    "        DecimalToBinary(num // 2)\n",
    "    print(num % 2, end = '')\n",
    " \n",
    "# Driver Code\n",
    "if __name__ == '__main__':\n",
    "     \n",
    "    # decimal value\n",
    "    dec_val = 32\n",
    "     \n",
    "    # Calling function\n",
    "    DecimalToBinary(dec_val)\n"
   ]
  },
  {
   "cell_type": "markdown",
   "metadata": {},
   "source": [
    "## Task 4\n",
    "Implement a Python program to input a number and check whether number is even or odd using if/else statements.\n",
    "\n",
    "Example:\n",
    "Input <br>\n",
    "Input num: 25 <br>\n",
    "Output <br>\n",
    "25 is odd."
   ]
  },
  {
   "cell_type": "code",
   "execution_count": 1,
   "metadata": {},
   "outputs": [
    {
     "name": "stdout",
     "output_type": "stream",
     "text": [
      "Enter a number: 25\n",
      "25 is Odd\n"
     ]
    }
   ],
   "source": [
    "# Python program to check if the input number is odd or even.\n",
    "# A number is even if division by 2 gives a remainder of 0.\n",
    "# If the remainder is 1, it is an odd number.\n",
    "\n",
    "num = int(input(\"Enter a number: \"))\n",
    "if (num % 2) == 0:\n",
    "   print(\"{0} is Even\".format(num))\n",
    "else:\n",
    "   print(\"{0} is Odd\".format(num))\n"
   ]
  },
  {
   "cell_type": "markdown",
   "metadata": {},
   "source": [
    "## Task 5\n",
    "Implement a Python program to check if input year is a leap year using if/else statements."
   ]
  },
  {
   "cell_type": "code",
   "execution_count": 2,
   "metadata": {},
   "outputs": [
    {
     "name": "stdout",
     "output_type": "stream",
     "text": [
      "Enter the number: 2021\n",
      "Given Year is not a leap Year\n"
     ]
    }
   ],
   "source": [
    "# Default function to implement conditions to check leap year  \n",
    "def CheckLeap(Year):  \n",
    "  # Checking if the given year is leap year  \n",
    "  if((Year % 400 == 0) or  \n",
    "     (Year % 100 != 0) and  \n",
    "     (Year % 4 == 0)):   \n",
    "    print(\"Given Year is a leap Year\");  \n",
    "  # Else it is not a leap year  \n",
    "  else:  \n",
    "    print (\"Given Year is not a leap Year\")  \n",
    "# Taking an input year from user  \n",
    "Year = int(input(\"Enter the number: \"))  \n",
    "# Printing result  \n",
    "CheckLeap(Year)  "
   ]
  },
  {
   "cell_type": "markdown",
   "metadata": {},
   "source": [
    "## Task 6\n",
    "Implement a Python program to print all natural numbers from 1 to n using loop."
   ]
  },
  {
   "cell_type": "code",
   "execution_count": 3,
   "metadata": {},
   "outputs": [
    {
     "name": "stdout",
     "output_type": "stream",
     "text": [
      "Please Enter any Number: 20\n",
      "The List of Natural Numbers from 1 to 20\n",
      "1  2  3  4  5  6  7  8  9  10  11  12  13  14  15  16  17  18  19  20  "
     ]
    }
   ],
   "source": [
    "# Python program to print numbers from 1 to n\n",
    " \n",
    "n = int(input(\"Please Enter any Number: \"))\n",
    " \n",
    "print(\"The List of Natural Numbers from 1\", \"to\", n) \n",
    " \n",
    "for i in range(1, n + 1):\n",
    "    print (i, end = '  ')"
   ]
  },
  {
   "cell_type": "markdown",
   "metadata": {},
   "source": [
    "## Task 7\n",
    "Implement a Python program to input a number from user and swap first and last digit of the given number. This task is easy to perform when input is transformed to a string. However, the aim here is to make use of mathematical operations to perform the swapping operation. One way to perform this task is to divide the input number by 10 until you are left with the first digit. The remainder from the first division is the last digit. Note that there are alternative approaches to perform the same task."
   ]
  },
  {
   "cell_type": "code",
   "execution_count": 7,
   "metadata": {},
   "outputs": [
    {
     "name": "stdout",
     "output_type": "stream",
     "text": [
      "Please Enter Number: 1957\n",
      "\n",
      " Interchanged Digits : 7951\n"
     ]
    }
   ],
   "source": [
    "num =int(input('Please Enter Number: '))\n",
    "rev = 0\n",
    "noOfDigit = 0\n",
    "temp = num\n",
    "while temp>0:\n",
    "  temp = int(temp/10)\n",
    "  noOfDigit = noOfDigit+1\n",
    "if noOfDigit<2:\n",
    "  print(\"\\nIt is a Single-digit Number!\")\n",
    "elif noOfDigit==2:\n",
    "  temp = num\n",
    "  while temp>0:\n",
    "    rem = temp%10\n",
    "    rev = (rev*10)+rem\n",
    "    temp = int(temp/10)\n",
    "  print(\"\\nFirst and Last (Second) Digit Interchanged Successfully!\")\n",
    "  print(\"\\nNew Number: \")\n",
    "  print(rev)\n",
    "else:\n",
    "  temp = num\n",
    "  while temp>0:\n",
    "    rem = temp%10\n",
    "    rev = (rev*10)+rem\n",
    "    temp = int(temp/10)\n",
    "  revNum = rev\n",
    "  rev = 0\n",
    "  temp = num\n",
    "  noOfDigitTemp = noOfDigit\n",
    "  while temp>0:\n",
    "    remTemp = revNum%10\n",
    "    if noOfDigitTemp==noOfDigit:\n",
    "      rem = temp%10\n",
    "      rev = (rev*10)+rem\n",
    "    elif noOfDigitTemp==1:\n",
    "      rem = temp%10\n",
    "      rev = (rev*10)+rem\n",
    "    else:\n",
    "      rev = (rev*10)+remTemp\n",
    "    temp = int(temp/10)\n",
    "    revNum = int(revNum/10)\n",
    "    noOfDigitTemp = noOfDigitTemp-1\n",
    "  print('\\n Interchanged Digits : {}'.format(rev))"
   ]
  },
  {
   "cell_type": "markdown",
   "metadata": {},
   "source": [
    "## Task 8\n",
    "Implement a Python program to input any number from user and find cube of the given number using function. "
   ]
  },
  {
   "cell_type": "code",
   "execution_count": 8,
   "metadata": {},
   "outputs": [
    {
     "name": "stdout",
     "output_type": "stream",
     "text": [
      "Enter an any number: 12\n",
      "Cube of 12 is 1728 \n"
     ]
    }
   ],
   "source": [
    "# Python program to calculate cube of given number\n",
    "\n",
    "# take input a number from user\n",
    "num = int(input(\"Enter an any number: \"))\n",
    "\n",
    "# calculate cube using * operator\n",
    "cb = num*num*num\n",
    "\n",
    "# display result\n",
    "print(\"Cube of {0} is {1} \".format(num, cb))"
   ]
  },
  {
   "cell_type": "markdown",
   "metadata": {},
   "source": [
    "## Task 9\n",
    "Write a function to find prime numbers between two integers (i.e. lower and upper bound). Note that you need to control if provided bounds are positive (at least upper bound should be some positive number) and upper bound is larger than provided lower bound."
   ]
  },
  {
   "cell_type": "code",
   "execution_count": 9,
   "metadata": {},
   "outputs": [
    {
     "name": "stdout",
     "output_type": "stream",
     "text": [
      "Enter lower bound of the interval:10\n",
      "10\n",
      "Enter upper bound of the interval:100\n",
      "100\n",
      "Prime numbers between 10 and 100 are:11 13 17 19 23 29 31 37 41 43 47 53 59 61 67 71 73 79 83 89 97 "
     ]
    }
   ],
   "source": [
    "# Python3 program to find the prime\n",
    "# numbers between a given interval\n",
    " \n",
    "if __name__ == '__main__':\n",
    "     \n",
    "    # Declare the variables\n",
    "    a, b, i, j, flag = 0, 0, 0, 0, 0\n",
    " \n",
    "    # Ask user to enter lower value of interval\n",
    "    print(\"Enter lower bound of the interval:\",\n",
    "                                      end = \"\")\n",
    "    a = int(input()) # Take input\n",
    "    print(a)\n",
    "     \n",
    "    # Ask user to enter upper value of interval\n",
    "    print(\"Enter upper bound of the interval:\",\n",
    "                                      end = \"\")\n",
    "    b = int(input()) # Take input\n",
    "    print(b)\n",
    "     \n",
    "    # Print display message\n",
    "    print(\"Prime numbers between\", a, \"and\",\n",
    "                        b, \"are:\", end = \"\")\n",
    " \n",
    "    # Traverse each number in the interval\n",
    "    # with the help of for loop\n",
    "    for i in range(a, b + 1):\n",
    " \n",
    "        # Skip 1 as1 is neither\n",
    "        # prime nor composite\n",
    "        if (i == 1):\n",
    "            continue\n",
    " \n",
    "        # flag variable to tell\n",
    "        # if i is prime or not\n",
    "        flag = 1\n",
    "         \n",
    "        for j in range(2, i // 2 + 1):\n",
    "            if (i % j == 0):\n",
    "                flag = 0\n",
    "                break\n",
    "             \n",
    "        # flag = 1 means i is prime\n",
    "        # and flag = 0 means i is not prime\n",
    "        if (flag == 1):\n",
    "            print(i, end = \" \")"
   ]
  },
  {
   "cell_type": "markdown",
   "metadata": {},
   "source": [
    "## Task 10\n",
    "Implement a Python program that takes a list with numerical elements and find the sum of list elements."
   ]
  },
  {
   "cell_type": "code",
   "execution_count": 10,
   "metadata": {},
   "outputs": [
    {
     "name": "stdout",
     "output_type": "stream",
     "text": [
      "How many numbers: 7\n",
      "Enter number 7\n",
      "Enter number 8\n",
      "Enter number 56\n",
      "Enter number 47\n",
      "Enter number 22\n",
      "Enter number 35\n",
      "Enter number 68\n",
      "Sum of elements in given list is : 243\n"
     ]
    }
   ],
   "source": [
    "lst = []\n",
    "num = int(input('How many numbers: '))\n",
    "for n in range(num):\n",
    "    numbers = int(input('Enter number '))\n",
    "    lst.append(numbers)\n",
    "print(\"Sum of elements in given list is :\", sum(lst))"
   ]
  },
  {
   "cell_type": "markdown",
   "metadata": {},
   "source": [
    "## Task 11\n",
    "Implement a Python program that takes an integer list and find frequency of each element in list. There are built-in functions to perform this task in Python however you are expected perform this task using loops. Example:\n",
    "\n",
    "\n",
    "Input\n",
    "Input array elements: 4, 9, 9, 5, 100, 1, 2, 1, 2\n",
    "\n",
    "Output <br>\n",
    "Frequency of 4 = 1  <br>\n",
    "Frequency of 9 = 2  <br>\n",
    "Frequency of 5 = 1  <br>\n",
    "Frequency of 100 = 1  <br>\n",
    "Frequency of 1 = 2  <br>\n",
    "Frequency of 2 = 2  <br>"
   ]
  },
  {
   "cell_type": "code",
   "execution_count": 15,
   "metadata": {},
   "outputs": [
    {
     "name": "stdout",
     "output_type": "stream",
     "text": [
      "Frequency of 1 = 5\n",
      "Frequency of 5 = 2\n",
      "Frequency of 3 = 3\n",
      "Frequency of 4 = 3\n",
      "Frequency of 2 = 4\n"
     ]
    }
   ],
   "source": [
    "# Python program to count the frequency of\n",
    "# elements in a list using a dictionary\n",
    " \n",
    "def CountFrequency(my_list):\n",
    " \n",
    "    # Creating an empty dictionary\n",
    "    freq = {}\n",
    "    for item in my_list:\n",
    "        if (item in freq):\n",
    "            freq[item] += 1\n",
    "        else:\n",
    "            freq[item] = 1\n",
    " \n",
    "    for key, value in freq.items():\n",
    "        print (\"Frequency of% d =% d\"%(key, value))\n",
    " \n",
    "# Driver function\n",
    "if __name__ == \"__main__\":\n",
    "    my_list =[1, 1, 1, 5, 5, 3, 1, 3, 3, 1, 4, 4, 4, 2, 2, 2, 2]\n",
    " \n",
    "    CountFrequency(my_list)"
   ]
  },
  {
   "cell_type": "markdown",
   "metadata": {},
   "source": [
    "## Task 12\n",
    "Implement a Python program that reads the side (side sizes between 1 and 5 ) of a square and prints square using hash (#) character.\n",
    "\n",
    "Input: 5\n",
    "Sample Output: <br>\n",
    "Input the size of the square:  <br>\n",
    " $ # # # # # $ <br>\n",
    " $ # # # # # $ <br>\n",
    " $ # # # # # $ <br>\n",
    " $ # # # # # $ <br>\n",
    " $ # # # # # $ <br>"
   ]
  },
  {
   "cell_type": "code",
   "execution_count": 20,
   "metadata": {},
   "outputs": [
    {
     "name": "stdout",
     "output_type": "stream",
     "text": [
      "nput the size of the square: 3\n",
      "###\n",
      "###\n",
      "###\n"
     ]
    }
   ],
   "source": [
    "def square_size(n):\n",
    "    if n>=1 and n<=5:\n",
    "        printing=\"#\"*n\n",
    "        for i in range(n):\n",
    "            print(printing)\n",
    "size=input(\"nput the size of the square: \")\n",
    "square_size(int(size))"
   ]
  }
 ],
 "metadata": {
  "kernelspec": {
   "display_name": "Python 3 (ipykernel)",
   "language": "python",
   "name": "python3"
  },
  "language_info": {
   "codemirror_mode": {
    "name": "ipython",
    "version": 3
   },
   "file_extension": ".py",
   "mimetype": "text/x-python",
   "name": "python",
   "nbconvert_exporter": "python",
   "pygments_lexer": "ipython3",
   "version": "3.9.7"
  }
 },
 "nbformat": 4,
 "nbformat_minor": 2
}
